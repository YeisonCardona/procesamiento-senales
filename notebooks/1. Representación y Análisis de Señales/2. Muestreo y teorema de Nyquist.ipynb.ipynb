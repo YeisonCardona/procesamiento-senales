{
 "cells": [
  {
   "cell_type": "code",
   "execution_count": 1,
   "id": "ae3c0b6c-e56a-41b1-8fbf-216b98920b46",
   "metadata": {},
   "outputs": [],
   "source": [
    "from dsp_utils import SignalGenerator\n",
    "from dsp_utils import Visualizer\n",
    "\n",
    "from matplotlib import pyplot as plt\n",
    "from ipywidgets import interact\n",
    "import numpy as np\n"
   ]
  },
  {
   "cell_type": "code",
   "execution_count": 6,
   "id": "fa814146-61a7-42f0-8689-5d45c2f97d2c",
   "metadata": {},
   "outputs": [
    {
     "data": {
      "application/vnd.jupyter.widget-view+json": {
       "model_id": "f4f06d9eb27d4e5e981120b7b141776b",
       "version_major": 2,
       "version_minor": 0
      },
      "text/plain": [
       "interactive(children=(IntSlider(value=20, description='sample_rate', min=2), Output()), _dom_classes=('widget-…"
      ]
     },
     "metadata": {},
     "output_type": "display_data"
    }
   ],
   "source": [
    "@interact(sample_rate=(2, 100))\n",
    "def _(sample_rate=20):\n",
    "    \n",
    "    generador = SignalGenerator(frequency=10, amplitude=1, duration=1, sampling_rate=10000)\n",
    "    generador2 = SignalGenerator(frequency=10, amplitude=1, duration=1, sampling_rate=sample_rate, phase=np.random.random())\n",
    "    \n",
    "    vis = Visualizer(figsize=(16, 7), dpi=100)\n",
    "\n",
    "    plt.figure(figsize=vis.figsize, dpi=vis.dpi)\n",
    "    \n",
    "    ax = plt.subplot(111)\n",
    "    \n",
    "    vis.plot_signal(generador.sine_wave, ax=ax, time=generador.time, title=\"Señal Sinusoidal\", alpha=0.5)\n",
    "    vis.plot_signal(generador2.sine_wave, ax=ax, time=generador2.time)\n",
    "    \n",
    "    plt.show()\n"
   ]
  },
  {
   "cell_type": "code",
   "execution_count": null,
   "id": "dd439e51-4ce6-4d02-a3cc-81cdc73dfc20",
   "metadata": {},
   "outputs": [],
   "source": []
  }
 ],
 "metadata": {
  "kernelspec": {
   "display_name": "Python 3 (ipykernel)",
   "language": "python",
   "name": "python3"
  },
  "language_info": {
   "codemirror_mode": {
    "name": "ipython",
    "version": 3
   },
   "file_extension": ".py",
   "mimetype": "text/x-python",
   "name": "python",
   "nbconvert_exporter": "python",
   "pygments_lexer": "ipython3",
   "version": "3.12.6"
  }
 },
 "nbformat": 4,
 "nbformat_minor": 5
}
