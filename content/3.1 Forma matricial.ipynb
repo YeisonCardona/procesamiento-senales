{
 "cells": [
  {
   "cell_type": "markdown",
   "id": "b2728abc",
   "metadata": {},
   "source": [
    "# Representación Matricial de la Transformada de Fourier\n",
    "\n",
    "En esta sección, exploraremos la representación de la Transformada de Fourier en forma matricial, utilizada frecuentemente en aplicaciones computacionales y en álgebra lineal."
   ]
  },
  {
   "cell_type": "markdown",
   "id": "b1580b0a",
   "metadata": {},
   "source": [
    "## Definición Matemática\n",
    "\n",
    "La Transformada Discreta de Fourier (DFT) puede expresarse en forma matricial como:\n",
    "\n",
    "$$ X = W_N x $$\n",
    "\n",
    "Donde:\n",
    "- $X$ es el vector transformado en el dominio de la frecuencia.\n",
    "- $x$ es el vector de entrada en el dominio del tiempo.\n",
    "- $W_N$ es la matriz de Fourier de tamaño $N \\times N$, cuyos elementos están definidos como:\n",
    "\n",
    "$$ W_N(k, n) = e^{-j 2\\pi kn/N} $$\n",
    "\n",
    "La matriz $W_N$ es una matriz de coeficientes exponenciales complejos que permite calcular la DFT mediante un producto matricial en lugar de una suma directa."
   ]
  },
  {
   "cell_type": "markdown",
   "id": "64d6de66",
   "metadata": {},
   "source": [
    "## Construcción de la Matriz de Fourier\n",
    "\n",
    "La matriz $W_N$ tiene una estructura especial donde cada elemento está dado por una raíz de la unidad compleja elevada a una potencia específica.\n",
    "\n",
    "- La primera fila y la primera columna de $W_N$ contienen solo unos.\n",
    "- Cada fila representa una frecuencia armónica creciente.\n",
    "- Los valores son simétricos y periódicos en torno a $N$."
   ]
  },
  {
   "cell_type": "markdown",
   "id": "74d95e6a",
   "metadata": {},
   "source": [
    "## Ejemplo: Matriz de Fourier $4 \\times 4$\n",
    "\n",
    "Para $N = 4$, la matriz de Fourier $W_4$ se construye como:\n",
    "\n",
    "$$\n",
    "W_4 = \\begin{bmatrix}\n",
    "1 & 1 & 1 & 1 \\\\\n",
    "1 & e^{-j\\pi/2} & e^{-j\\pi} & e^{-j3\\pi/2} \\\\\n",
    "1 & e^{-j\\pi} & e^{-j2\\pi} & e^{-j3\\pi} \\\\\n",
    "1 & e^{-j3\\pi/2} & e^{-j3\\pi} & e^{-j9\\pi/2}\n",
    "\\end{bmatrix}\n",
    "$$"
   ]
  },
  {
   "cell_type": "code",
   "execution_count": null,
   "id": "b8083676",
   "metadata": {},
   "outputs": [],
   "source": [
    "import numpy as np\n",
    "\n",
    "# Definir N\n",
    "N = 4\n",
    "\n",
    "# Construcción de la matriz de Fourier cuadrada\n",
    "k = np.arange(N)\n",
    "n = k.reshape((N, 1))  # Convertir en columna para el producto matricial\n",
    "W_4 = np.exp(-2j * np.pi * k * n / N)\n",
    "\n",
    "# Mostrar la matriz\n",
    "print(\"Matriz de Fourier W_4:\")\n",
    "print(np.round(W_4, 3))  # Redondear para mejor visualización"
   ]
  },
  {
   "cell_type": "markdown",
   "id": "30fee208",
   "metadata": {},
   "source": [
    "## Matriz de Fourier Rectangular ($6 \\times 4$)\n",
    "\n",
    "En ciertos casos, podemos definir una matriz de Fourier **no cuadrada**, como cuando tenemos más frecuencias en la salida que muestras en la señal original.\n",
    "\n",
    "Para una matriz $W_{6,4}$ de dimensiones $6 \\times 4$:"
   ]
  },
  {
   "cell_type": "code",
   "execution_count": null,
   "id": "e624d003",
   "metadata": {
    "lines_to_next_cell": 1
   },
   "outputs": [],
   "source": [
    "M, N = 6, 4  # Filas y columnas\n",
    "k = np.arange(M).reshape(M, 1)  # Vector de frecuencias\n",
    "n = np.arange(N).reshape(1, N)  # Vector de tiempo\n",
    "W_6_4 = np.exp(-2j * np.pi * k * n / N)  # Matriz rectangular\n",
    "\n",
    "# Mostrar la matriz rectangular\n",
    "print(\"Matriz de Fourier W_6_4:\")\n",
    "print(np.round(W_6_4, 3))  # Redondear para mejor visualización"
   ]
  },
  {
   "cell_type": "markdown",
   "id": "8d432bb0",
   "metadata": {},
   "source": [
    "## Implementación en Python\n",
    "\n",
    "A continuación, implementaremos la DFT en forma matricial utilizando `numpy`."
   ]
  },
  {
   "cell_type": "code",
   "execution_count": null,
   "id": "4735e487",
   "metadata": {},
   "outputs": [],
   "source": [
    "# Definir la función para calcular la DFT mediante la matriz de Fourier\n",
    "def dft_matrix(N):\n",
    "    k = np.arange(N)\n",
    "    n = k.reshape((N, 1))  # Convertir en columna para el producto matricial\n",
    "    W = np.exp(-2j * np.pi * k * n / N)\n",
    "    return W\n",
    "\n",
    "# Señal de ejemplo\n",
    "N = 8  # Tamaño de la señal\n",
    "t = np.arange(N)\n",
    "x = np.sin(2 * np.pi * t / N)  # Señal senoidal de ejemplo\n",
    "\n",
    "# Calcular la DFT usando la matriz de Fourier\n",
    "W = dft_matrix(N)\n",
    "X = W @ x  # Multiplicación matricial\n",
    "\n",
    "# Mostrar la matriz de Fourier\n",
    "print(\"Matriz de Fourier W_N:\")\n",
    "print(np.round(W, 3))  # Redondear para mejor visualización"
   ]
  },
  {
   "cell_type": "markdown",
   "id": "16a69248",
   "metadata": {},
   "source": [
    "## Visualización de la Transformada\n",
    "\n",
    "Se graficarán la señal original y su espectro de Fourier."
   ]
  },
  {
   "cell_type": "code",
   "execution_count": null,
   "id": "31eae67f",
   "metadata": {},
   "outputs": [],
   "source": [
    "import matplotlib.pyplot as plt\n",
    "\n",
    "plt.figure(figsize=(12, 5))\n",
    "\n",
    "# Señal original\n",
    "t = np.linspace(0, N-1, N)\n",
    "plt.subplot(1, 2, 1)\n",
    "plt.stem(t, x, use_line_collection=True)\n",
    "plt.title(\"Señal original\")\n",
    "plt.xlabel(\"Tiempo\")\n",
    "plt.ylabel(\"Amplitud\")\n",
    "plt.grid()\n",
    "\n",
    "# Magnitud del espectro de Fourier\n",
    "plt.subplot(1, 2, 2)\n",
    "plt.stem(np.abs(X), use_line_collection=True)\n",
    "plt.title(\"Espectro de Fourier (Magnitud)\")\n",
    "plt.xlabel(\"Frecuencia\")\n",
    "plt.ylabel(\"Amplitud\")\n",
    "plt.grid()\n",
    "\n",
    "plt.tight_layout()\n",
    "plt.show()"
   ]
  },
  {
   "cell_type": "markdown",
   "id": "850202c6",
   "metadata": {},
   "source": [
    "Esta implementación muestra cómo la Transformada de Fourier puede calcularse eficientemente usando su representación matricial, tanto en forma cuadrada como rectangular."
   ]
  }
 ],
 "metadata": {
  "jupytext": {
   "cell_metadata_filter": "-all",
   "main_language": "python",
   "notebook_metadata_filter": "-all"
  },
  "kernelspec": {
   "display_name": "Python 3 (ipykernel)",
   "language": "python",
   "name": "python3"
  },
  "language_info": {
   "codemirror_mode": {
    "name": "ipython",
    "version": 3
   },
   "file_extension": ".py",
   "mimetype": "text/x-python",
   "name": "python",
   "nbconvert_exporter": "python",
   "pygments_lexer": "ipython3",
   "version": "3.12.7"
  }
 },
 "nbformat": 4,
 "nbformat_minor": 5
}
