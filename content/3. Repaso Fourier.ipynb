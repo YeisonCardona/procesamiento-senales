{
 "cells": [
  {
   "cell_type": "markdown",
   "id": "d94932a4",
   "metadata": {},
   "source": [
    "# Repaso Fourier"
   ]
  },
  {
   "cell_type": "markdown",
   "id": "7747955c",
   "metadata": {},
   "source": [
    "# 1. Introducción\n",
    "\n",
    "En esta sección, exploraremos una breve introducción al trabajo de Fourier y su importancia en el área de señales y sistemas."
   ]
  },
  {
   "cell_type": "markdown",
   "id": "af651863",
   "metadata": {},
   "source": [
    "## Breve historia de Fourier y sus aplicaciones\n",
    "\n",
    "Jean-Baptiste Joseph Fourier (1768-1830) fue un matemático y físico francés que desarrolló la idea de que cualquier función periódica puede representarse como la suma de funciones sinusoidales. Este concepto, conocido como la Serie de Fourier, es una herramienta fundamental en matemáticas, ingeniería y ciencia.\n",
    "\n",
    "### Principales aportes:\n",
    "- Descomposición de funciones periódicas.\n",
    "- Aplicación a la transferencia de calor y la dinámica de sistemas.\n",
    "\n",
    "### Ejemplos de aplicaciones modernas:\n",
    "- Procesamiento de señales: audio, video e imágenes.\n",
    "- Telecomunicaciones: modulación de señales.\n",
    "- Análisis espectral: investigación científica en física y química."
   ]
  },
  {
   "cell_type": "markdown",
   "id": "a05bb3df",
   "metadata": {},
   "source": [
    "## Importancia de la Transformada de Fourier en señales y sistemas\n",
    "\n",
    "La Transformada de Fourier permite convertir una señal del dominio del tiempo al dominio de la frecuencia, proporcionando información clave sobre el contenido frecuencial de la misma.\n",
    "\n",
    "### Razones clave de su importancia:\n",
    "- **Análisis de sistemas lineales invariantes en el tiempo (LTI):** permite estudiar la respuesta de sistemas a diferentes frecuencias.\n",
    "- **Filtrado:** diseño y análisis de filtros pasa-bajo, pasa-alto, entre otros.\n",
    "- **Compresión de datos:** aplicación en algoritmos de compresión como JPEG o MP3."
   ]
  },
  {
   "cell_type": "markdown",
   "id": "cdf98beb",
   "metadata": {},
   "source": [
    "### Ejemplo visual:\n",
    "Más adelante, incluiremos código para demostrar cómo una señal compuesta puede descomponerse en componentes sinusoidales utilizando la Transformada de Fourier.\n",
    "\n",
    "\n"
   ]
  },
  {
   "cell_type": "markdown",
   "id": "fdab4686",
   "metadata": {},
   "source": [
    "# 2. Conceptos Básicos\n",
    "\n",
    "En esta sección, se introducen los conceptos fundamentales necesarios para comprender el análisis de Fourier, incluyendo las series de Fourier y sus propiedades."
   ]
  },
  {
   "cell_type": "markdown",
   "id": "e2ea8465",
   "metadata": {},
   "source": [
    "## Series de Fourier\n",
    "\n",
    "Una serie de Fourier permite expresar una función periódica \\( f(t) \\) como una suma infinita de funciones sinusoidales (senos y cosenos):\n",
    "\n",
    "\\[\n",
    "f(t) = a_0 + \\sum_{n=1}^{\\infty} \\left( a_n \\cos(2\\pi n t) + b_n \\sin(2\\pi n t) \\right)\n",
    "\\]\n",
    "\n",
    "Donde:\n",
    "- \\( a_0 \\): Término constante (promedio de la función).\n",
    "- \\( a_n, b_n \\): Coeficientes de Fourier calculados como:\n",
    "\n",
    "\\[\n",
    "a_n = \\frac{2}{T} \\int_{0}^{T} f(t) \\cos(2\\pi n t) dt, \\quad b_n = \\frac{2}{T} \\int_{0}^{T} f(t) \\sin(2\\pi n t) dt\n",
    "\\]"
   ]
  },
  {
   "cell_type": "markdown",
   "id": "98bb6335",
   "metadata": {},
   "source": [
    "## Propiedades fundamentales de Fourier\n",
    "\n",
    "Las series y transformadas de Fourier poseen propiedades que facilitan su aplicación en problemas reales. Algunas de las más importantes son:\n",
    "\n",
    "1. **Linealidad:** La transformada de la suma de dos funciones es la suma de sus transformadas.\n",
    "2. **Desplazamiento en el tiempo:** Un desplazamiento en el tiempo introduce un factor exponencial complejo en la transformada.\n",
    "3. **Escalado:** Cambiar la escala del tiempo afecta inversamente la frecuencia.\n",
    "4. **Dualidad:** Existe simetría entre el dominio del tiempo y el dominio de la frecuencia."
   ]
  },
  {
   "cell_type": "markdown",
   "id": "c1e8cd76",
   "metadata": {},
   "source": [
    "## Diferencia entre Serie de Fourier y Transformada de Fourier\n",
    "\n",
    "| **Característica**                | **Serie de Fourier**                                              | **Transformada de Fourier**               |\n",
    "|-----------------------------------|-------------------------------------------------------------------|------------------------------------------|\n",
    "| **Dominio**                       | Tiempo continuo y periódico                                      | Tiempo continuo, no necesariamente periódico |\n",
    "| **Representación**                | Suma infinita de senos y cosenos                                  | Integral que relaciona tiempo y frecuencia |\n",
    "| **Aplicaciones principales**      | Análisis de señales periódicas                                   | Análisis de señales generales             |"
   ]
  },
  {
   "cell_type": "code",
   "execution_count": null,
   "id": "fd86ecd9",
   "metadata": {},
   "outputs": [],
   "source": [
    "\n"
   ]
  },
  {
   "cell_type": "markdown",
   "id": "bbbbd73a",
   "metadata": {},
   "source": [
    "# 3. Transformada de Fourier\n",
    "\n",
    "La Transformada de Fourier es una herramienta matemática que convierte una función del dominio del tiempo \\( f(t) \\) en una representación en el dominio de la frecuencia \\( F(\\omega) \\). Esto permite analizar las frecuencias que componen una señal."
   ]
  },
  {
   "cell_type": "markdown",
   "id": "d49a769c",
   "metadata": {},
   "source": [
    "## Definición Matemática\n",
    "\n",
    "La Transformada de Fourier de una función \\( f(t) \\) está dada por:\n",
    "\n",
    "$\n",
    "F(\\omega) = \\int_{-\\infty}^{\\infty} f(t) e^{-j\\omega t} dt\n",
    "$\n",
    "\n",
    "Donde:\n",
    "- \\( F(\\omega) \\): Representación en el dominio de la frecuencia.\n",
    "- \\( f(t) \\): Señal en el dominio del tiempo.\n",
    "- \\( \\omega \\): Frecuencia angular (rad/s)."
   ]
  },
  {
   "cell_type": "markdown",
   "id": "64568bb9",
   "metadata": {},
   "source": [
    "## Ejemplos básicos\n",
    "\n",
    "### 1. Transformada de un pulso rectangular\n",
    "Una señal de pulso rectangular en el dominio del tiempo se transforma en una función sinc en el dominio de la frecuencia.\n",
    "\n",
    "\\[\n",
    "f(t) = \\begin{cases} \n",
    "1, & \\text{si } |t| \\leq \\frac{T}{2} \\\\\n",
    "0, & \\text{si } |t| > \\frac{T}{2}\n",
    "\\end{cases}\n",
    "\\]\n",
    "\n",
    "Su transformada es:\n",
    "\\[\n",
    "F(\\omega) = T \\text{sinc}\\left(\\frac{\\omega T}{2}\\right)\n",
    "\\]"
   ]
  },
  {
   "cell_type": "markdown",
   "id": "da4c1883",
   "metadata": {},
   "source": [
    "### 2. Transformada de una función exponencial\n",
    "Para una función exponencial decreciente:\n",
    "\\[\n",
    "f(t) = e^{-at}, \\quad t \\geq 0\n",
    "\\]\n",
    "\n",
    "La transformada de Fourier es:\n",
    "\\[\n",
    "F(\\omega) = \\frac{1}{a + j\\omega}\n",
    "\\]"
   ]
  },
  {
   "cell_type": "markdown",
   "id": "0a64154b",
   "metadata": {},
   "source": [
    "## Propiedades de la Transformada de Fourier\n",
    "\n",
    "1. **Linealidad:**\n",
    "\\[\n",
    "\\mathcal{F}\\{af_1(t) + bf_2(t)\\} = aF_1(\\omega) + bF_2(\\omega)\n",
    "\\]\n",
    "\n",
    "2. **Desplazamiento en el tiempo:**\n",
    "\\[\n",
    "\\mathcal{F}\\{f(t-t_0)\\} = e^{-j\\omega t_0}F(\\omega)\n",
    "\\]\n",
    "\n",
    "3. **Escalado:**\n",
    "\\[\n",
    "\\mathcal{F}\\{f(at)\\} = \\frac{1}{|a|}F\\left(\\frac{\\omega}{a}\\right)\n",
    "\\]\n",
    "\n",
    "4. **Convolución:**\n",
    "\\[\n",
    "\\mathcal{F}\\{f_1(t) * f_2(t)\\} = F_1(\\omega)F_2(\\omega)\n",
    "\\]"
   ]
  },
  {
   "cell_type": "markdown",
   "id": "52af7d3d",
   "metadata": {
    "lines_to_next_cell": 2
   },
   "source": [
    "En las siguientes secciones, exploraremos aplicaciones prácticas de la Transformada de Fourier utilizando Python."
   ]
  }
 ],
 "metadata": {
  "jupytext": {
   "cell_metadata_filter": "-all",
   "main_language": "python",
   "notebook_metadata_filter": "-all"
  },
  "kernelspec": {
   "display_name": "Python 3 (ipykernel)",
   "language": "python",
   "name": "python3"
  },
  "language_info": {
   "codemirror_mode": {
    "name": "ipython",
    "version": 3
   },
   "file_extension": ".py",
   "mimetype": "text/x-python",
   "name": "python",
   "nbconvert_exporter": "python",
   "pygments_lexer": "ipython3",
   "version": "3.12.7"
  }
 },
 "nbformat": 4,
 "nbformat_minor": 5
}
